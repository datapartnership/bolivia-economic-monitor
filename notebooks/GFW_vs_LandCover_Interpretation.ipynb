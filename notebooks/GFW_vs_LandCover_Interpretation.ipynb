{
 "cells": [
  {
   "attachments": {},
   "cell_type": "markdown",
   "id": "3d85b3a6",
   "metadata": {},
   "source": [
    "\n",
    "### 🧭 Why Land Cover Change and GFW Deforestation May Show Different Results\n",
    "\n",
    "When comparing land cover change derived from products like **GLC_FCS30D** with deforestation alerts from **Global Forest Watch (GFW)** based on the **Hansen Global Forest Change v1.10**, discrepancies often emerge. These differences are not necessarily contradictions but reflect variations in definitions, methodologies, and detection objectives.\n",
    "\n",
    "*Author: Pietro Milillo, Assistant Professor, University of Houston and Short Term Consultant for Worldbank*\n",
    "\n",
    "> Display of Global Forest Watch 2017 loss (left) Cropland Area map GLC_FCS30D (center), Boliva Forest Loss Land CoverGLC_FCS30D (right)\n",
    "> \n",
    "| Deforestation 2017 | Cropland 2017 | Forest Loss 2017 |\n",
    "|-------------------|---------------|------------------|\n",
    "| ![Bolivia Deforestation Map 2017](img/Bolivia_Deforestation_Map_2017.png) | ![Bolivia Cropland Map 2017](img/Bolivia_Cropland_Map_2017.png) | ![Bolivia Forest Loss Map 2017](img/Bolivia_ForestLoss_Map_2017.png) |\n",
    "\n",
    "\n",
    "#### 🧪 Hypotheses for Discrepancies\n",
    "\n",
    "1. **Different Definitions of \"Forest\" and \"Deforestation\"**  \n",
    "   - GFW defines \"forest\" as areas with >30% canopy cover and identifies **tree cover loss**, including logging, fire, agriculture, or natural events.  \n",
    "   - Land cover products may categorize forest based on land-use and vegetation type (e.g., distinguishing shrubland, wetlands, or agroforestry), which may not register subtle canopy changes.\n",
    "\n",
    "![Forest Definition](img/forestDef.jpg)\n",
    "\n",
    "\n",
    "2. **Temporal Resolution and Update Frequency**  \n",
    "   - GFW updates annually but highlights abrupt tree cover loss.  \n",
    "   - Land cover maps (e.g., GLC_FCS30D) often apply **temporal smoothing**, which may **delay** the detection or omit short-term or transitional losses.\n",
    "\n",
    "\n",
    "\n",
    "3. **Sensor and Algorithm Differences**  \n",
    "   - GFW uses **Landsat** with spectral indices optimized for forest change detection.  \n",
    "   - GLC_FCS30D incorporates **multiple sources (Landsat + MODIS)** with hierarchical classification and may prioritize **land use stability** over abrupt changes.\n",
    "\n",
    "\n",
    "\n",
    "4. **Cloud Cover and Shadow Effects**  \n",
    "   - Optical datasets like Landsat and MODIS are susceptible to cloud cover; processing may introduce uncertainty in tropical or mountainous regions.  \n",
    "   - GFW includes quality masks but can still misclassify areas with persistent cloud cover.\n",
    "\n",
    "\n",
    "\n",
    "5. **Small-scale or Gradual Change Detection**  \n",
    "   - GFW captures **abrupt tree loss**, while land cover maps may smooth out or miss **gradual degradation** or **mixed-use patches** (e.g., selective logging, agroforestry).\n",
    "\n",
    "---\n",
    "\n",
    "### 🔍 How to Interpret These Differences\n",
    "\n",
    "1. **Complementary Use**  \n",
    "   Treat GFW and land cover maps as **complementary tools**. Use GFW for detecting short-term, sudden tree cover loss, and GLC_FCS30D for understanding **land use conversion trends** and **longer-term stability**.\n",
    "\n",
    "2. **Cross-Validation Strategy**  \n",
    "   Compare overlapping trends spatially rather than expecting identical results. Look for **hotspots of agreement** and flag **disagreement zones** for manual review or further investigation using high-resolution imagery (e.g., Planet, Sentinel-2).\n",
    "\n",
    "3. **Use Worldbank Sentinel-1 SAR Data for [Change Detection](https://github.com/datapartnership/Sentinel1_TS_ChangeDetection)**  \n",
    "   Incorporate radar backscatter trends from Sentinel-1 to detect structural land cover changes independent of cloud contamination, adding an extra layer of validation. Preliminary testing shows good agreement.\n"
   ]
  },
  {
   "cell_type": "markdown",
   "id": "fa3ffefb-f732-4360-bd02-4980fc939e43",
   "metadata": {},
   "source": [
    "![Forest Definition](img/S1GFWComparison.png)"
   ]
  },
  {
   "cell_type": "code",
   "execution_count": null,
   "id": "30a7f487-0c9c-4098-baf5-06b7b122c49e",
   "metadata": {},
   "outputs": [],
   "source": []
  }
 ],
 "metadata": {
  "kernelspec": {
   "display_name": "Python 3 (ipykernel)",
   "language": "python",
   "name": "python3"
  },
  "language_info": {
   "codemirror_mode": {
    "name": "ipython",
    "version": 3
   },
   "file_extension": ".py",
   "mimetype": "text/x-python",
   "name": "python",
   "nbconvert_exporter": "python",
   "pygments_lexer": "ipython3",
   "version": "3.13.3"
  }
 },
 "nbformat": 4,
 "nbformat_minor": 5
}
