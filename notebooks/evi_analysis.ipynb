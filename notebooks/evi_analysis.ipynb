{
 "cells": [
  {
   "cell_type": "markdown",
   "id": "bd4e1131",
   "metadata": {},
   "source": [
    "# EVI Analysis"
   ]
  },
  {
   "cell_type": "markdown",
   "id": "b69af62b",
   "metadata": {},
   "source": [
    "* Fetch the GLC-FCS30D using Google Earth Engine\n",
    "* Combine all the tiles in GLC into a global tile\n",
    "* Given that each tile has multiple bands that represent multiple year, modify the data into an Image Collection\n",
    "* Select all the cropland values only (10, 11, 12, and 20)\n",
    "* Create mask for every cropland value and the overall cropland mask\n",
    "* Fetch the EVI data and Bolivia boundaries\n",
    "* Mask the EVI data using the cropland mask\n",
    "* Visualize the EVI based on each cropland per year and clip to Bolivia only\n",
    "* Export the map visualization as as static map\n",
    "* Create a zonal stats for each region in Bolivia by aggregating into mean"
   ]
  },
  {
   "cell_type": "markdown",
   "id": "551c427d",
   "metadata": {},
   "source": [
    "## Import library and data"
   ]
  },
  {
   "cell_type": "code",
   "execution_count": 2,
   "id": "3d0b791e",
   "metadata": {},
   "outputs": [
    {
     "name": "stderr",
     "output_type": "stream",
     "text": [
      "/Users/farhanreynaldo/Documents/world-bank/git-repo/bolivia-economic-monitor/.venv/lib/python3.11/site-packages/geemap/conversion.py:23: UserWarning: pkg_resources is deprecated as an API. See https://setuptools.pypa.io/en/latest/pkg_resources.html. The pkg_resources package is slated for removal as early as 2025-11-30. Refrain from using this package or pin to Setuptools<81.\n",
      "  import pkg_resources\n"
     ]
    }
   ],
   "source": [
    "from pathlib import Path\n",
    "import json\n",
    "import logging\n",
    "\n",
    "import ee\n",
    "import geemap\n",
    "from gee_zonal import ZonalStats\n",
    "import geemap.colormaps as cm\n",
    "import geopandas as gpd\n",
    "import requests\n",
    "\n",
    "logger = logging.getLogger(__name__)\n",
    "\n",
    "\n",
    "PROJECT_ID = \"ferrous-weaver-462011-d2\"\n",
    "ee.Initialize(project=PROJECT_ID)\n",
    "\n",
    "PROJECT_ROOT = Path().cwd().parent\n",
    "DATA_PATH = PROJECT_ROOT / \"data\"\n",
    "BOUNDARIES_PATH = DATA_PATH / \"boundaries\"\n",
    "\n",
    "ee.Initialize()"
   ]
  },
  {
   "cell_type": "markdown",
   "id": "27026e67",
   "metadata": {},
   "source": [
    "## Functions"
   ]
  },
  {
   "cell_type": "code",
   "execution_count": 3,
   "id": "249bdbe8",
   "metadata": {},
   "outputs": [
    {
     "data": {
      "text/html": [
       "\n",
       "            <style>\n",
       "                .geemap-dark {\n",
       "                    --jp-widgets-color: white;\n",
       "                    --jp-widgets-label-color: white;\n",
       "                    --jp-ui-font-color1: white;\n",
       "                    --jp-layout-color2: #454545;\n",
       "                    background-color: #383838;\n",
       "                }\n",
       "\n",
       "                .geemap-dark .jupyter-button {\n",
       "                    --jp-layout-color3: #383838;\n",
       "                }\n",
       "\n",
       "                .geemap-colab {\n",
       "                    background-color: var(--colab-primary-surface-color, white);\n",
       "                }\n",
       "\n",
       "                .geemap-colab .jupyter-button {\n",
       "                    --jp-layout-color3: var(--colab-primary-surface-color, white);\n",
       "                }\n",
       "            </style>\n",
       "            "
      ],
      "text/plain": [
       "<IPython.core.display.HTML object>"
      ]
     },
     "metadata": {},
     "output_type": "display_data"
    }
   ],
   "source": [
    "def load_geojson_to_ee(\n",
    "    geojson_path: str | Path,\n",
    ") -> ee.FeatureCollection:\n",
    "    \"\"\"Load a GeoJSON file to Earth Engine.\n",
    "\n",
    "    Args:\n",
    "        geojson_path: The path to the GeoJSON file.\n",
    "\n",
    "    Returns:\n",
    "        An ee.FeatureCollection equivalent to the GeoJSON file.\n",
    "    \"\"\"\n",
    "    if isinstance(geojson_path, str):\n",
    "        geojson_path = Path(geojson_path)\n",
    "\n",
    "    if not geojson_path.exists():\n",
    "        raise FileNotFoundError(f\"File not found: {geojson_path}\")\n",
    "\n",
    "    with open(geojson_path) as f:\n",
    "        geojson = json.load(f)\n",
    "\n",
    "    fc = ee.FeatureCollection(geojson)\n",
    "\n",
    "    return fc\n",
    "\n",
    "\n",
    "def fetch_boundaries(\n",
    "    iso3_code: str,\n",
    "    adm_level: int,\n",
    "    release_type: str = \"gbOpen\",\n",
    "    output_dir: str | Path = \"data/boundaries\",\n",
    "):\n",
    "    cache_dir = Path(output_dir)\n",
    "    cache_dir.mkdir(parents=True, exist_ok=True)\n",
    "    cache_file = cache_dir / f\"{iso3_code}_ADM{adm_level}_{release_type}.geojson\"\n",
    "\n",
    "    if cache_file.exists():\n",
    "        logger.info(f\"Loading boundaries from cache: {cache_file}\")\n",
    "        return load_geojson_to_ee(cache_file)\n",
    "\n",
    "    url = f\"https://www.geoboundaries.org/api/current/{release_type}/{iso3_code}/ADM{adm_level}\"\n",
    "    logger.info(f\"Fetching boundaries from API: {url}\")\n",
    "    response = requests.get(url)\n",
    "    response.raise_for_status()\n",
    "    download_url = response.json()[\"gjDownloadURL\"]\n",
    "    logger.info(f\"Downloading GeoJSON from: {download_url}\")\n",
    "    gdf = gpd.read_file(download_url)\n",
    "    gdf.to_file(cache_file, driver=\"GeoJSON\")\n",
    "    logger.info(f\"Boundaries saved to cache: {cache_file}\")\n",
    "    return load_geojson_to_ee(cache_file)\n",
    "\n",
    "\n",
    "def bitwiseExtract(value: ee.Image, fromBit: int, toBit: int | None = None) -> ee.Image:\n",
    "    \"\"\"Extract bits from a binary image.\"\"\"\n",
    "    toBit = fromBit if toBit is None else toBit\n",
    "    maskSize = ee.Number(1).add(toBit).subtract(fromBit)\n",
    "    mask = ee.Number(1).leftShift(maskSize).subtract(1)\n",
    "    return value.rightShift(fromBit).bitwiseAnd(mask)\n",
    "\n",
    "\n",
    "def apply_modisQA_mask(image: ee.Image):\n",
    "    sqa = image.select(\"SummaryQA\")\n",
    "    dqa = image.select(\"DetailedQA\")\n",
    "    viQualityFlagsS = bitwiseExtract(sqa, 0, 1)\n",
    "    viQualityFlagsD = bitwiseExtract(dqa, 0, 1)\n",
    "    viSnowIceFlagsD = bitwiseExtract(dqa, 14)\n",
    "    # Good data, use with confidence\n",
    "    mask = (\n",
    "        viQualityFlagsS.eq(0)\n",
    "        .And(viQualityFlagsD.eq(0))\n",
    "        .And(viQualityFlagsS.eq(1))\n",
    "        .And(viQualityFlagsD.eq(1))\n",
    "        .And(viSnowIceFlagsD)\n",
    "        .eq(0)\n",
    "    )\n",
    "    return image.updateMask(mask)\n",
    "\n",
    "\n",
    "def load_evi_data(\n",
    "    start_date: str | ee.Date,\n",
    "    end_date: str | ee.Date,\n",
    "    apply_crop_mask: bool = True,\n",
    ") -> ee.ImageCollection:\n",
    "    \"\"\"\n",
    "    Load EVI data from MODIS.\n",
    "\n",
    "    Args:\n",
    "        start_date: Start date.\n",
    "        end_date: End date.\n",
    "        apply_crop_mask: Whether to apply crop mask.\n",
    "\n",
    "    Returns:\n",
    "        EVI image collection.\n",
    "    \"\"\"\n",
    "\n",
    "    terra = (\n",
    "        ee.ImageCollection(\"MODIS/061/MOD13Q1\")\n",
    "        .select([\"EVI\", \"SummaryQA\", \"DetailedQA\"])\n",
    "        .filterDate(start_date, end_date)\n",
    "    )\n",
    "\n",
    "    aqua = (\n",
    "        ee.ImageCollection(\"MODIS/061/MYD13Q1\")\n",
    "        .select([\"EVI\", \"SummaryQA\", \"DetailedQA\"])\n",
    "        .filterDate(start_date, end_date)\n",
    "    )\n",
    "\n",
    "    mod13q1_QC = terra.map(apply_modisQA_mask)\n",
    "    myd13q1_QC = aqua.map(apply_modisQA_mask)\n",
    "    mxd13q1_cleaned = mod13q1_QC.select(\"EVI\").merge(myd13q1_QC.select(\"EVI\"))\n",
    "    mxd13q1 = mxd13q1_cleaned.sort(\"system:time_start\")\n",
    "    return mxd13q1"
   ]
  },
  {
   "cell_type": "code",
   "execution_count": 4,
   "id": "bd7fb0f4",
   "metadata": {},
   "outputs": [
    {
     "data": {
      "text/html": [
       "\n",
       "            <style>\n",
       "                .geemap-dark {\n",
       "                    --jp-widgets-color: white;\n",
       "                    --jp-widgets-label-color: white;\n",
       "                    --jp-ui-font-color1: white;\n",
       "                    --jp-layout-color2: #454545;\n",
       "                    background-color: #383838;\n",
       "                }\n",
       "\n",
       "                .geemap-dark .jupyter-button {\n",
       "                    --jp-layout-color3: #383838;\n",
       "                }\n",
       "\n",
       "                .geemap-colab {\n",
       "                    background-color: var(--colab-primary-surface-color, white);\n",
       "                }\n",
       "\n",
       "                .geemap-colab .jupyter-button {\n",
       "                    --jp-layout-color3: var(--colab-primary-surface-color, white);\n",
       "                }\n",
       "            </style>\n",
       "            "
      ],
      "text/plain": [
       "<IPython.core.display.HTML object>"
      ]
     },
     "metadata": {},
     "output_type": "display_data"
    }
   ],
   "source": [
    "bolivia_geom = fetch_boundaries(\"BOL\", 0, \"gbOpen\")\n",
    "evi_data = load_evi_data(\"2014-01-01\", \"2022-12-31\", apply_crop_mask=False)\n",
    "center = [-16.2902, -63.5887]\n",
    "\n",
    "bolivia_bbox = bolivia_geom.geometry().bounds()\n",
    "bolivia_bbox = ee.Geometry.BBox(-69.6450073, -22.8982742, -57.453, -9.6689438)"
   ]
  },
  {
   "cell_type": "markdown",
   "id": "bfea3530",
   "metadata": {},
   "source": [
    "## load and preprocessing the GLC"
   ]
  },
  {
   "cell_type": "code",
   "execution_count": 5,
   "id": "8f4cc9d7",
   "metadata": {},
   "outputs": [
    {
     "data": {
      "text/html": [
       "\n",
       "            <style>\n",
       "                .geemap-dark {\n",
       "                    --jp-widgets-color: white;\n",
       "                    --jp-widgets-label-color: white;\n",
       "                    --jp-ui-font-color1: white;\n",
       "                    --jp-layout-color2: #454545;\n",
       "                    background-color: #383838;\n",
       "                }\n",
       "\n",
       "                .geemap-dark .jupyter-button {\n",
       "                    --jp-layout-color3: #383838;\n",
       "                }\n",
       "\n",
       "                .geemap-colab {\n",
       "                    background-color: var(--colab-primary-surface-color, white);\n",
       "                }\n",
       "\n",
       "                .geemap-colab .jupyter-button {\n",
       "                    --jp-layout-color3: var(--colab-primary-surface-color, white);\n",
       "                }\n",
       "            </style>\n",
       "            "
      ],
      "text/plain": [
       "<IPython.core.display.HTML object>"
      ]
     },
     "metadata": {},
     "output_type": "display_data"
    }
   ],
   "source": [
    "annual = ee.ImageCollection(\"projects/sat-io/open-datasets/GLC-FCS30D/annual\")\n",
    "\n",
    "class_values = [\n",
    "    10,\n",
    "    11,\n",
    "    12,\n",
    "    20,\n",
    "    51,\n",
    "    52,\n",
    "    61,\n",
    "    62,\n",
    "    71,\n",
    "    72,\n",
    "    81,\n",
    "    82,\n",
    "    91,\n",
    "    92,\n",
    "    120,\n",
    "    121,\n",
    "    122,\n",
    "    130,\n",
    "    140,\n",
    "    150,\n",
    "    152,\n",
    "    153,\n",
    "    181,\n",
    "    182,\n",
    "    183,\n",
    "    184,\n",
    "    185,\n",
    "    186,\n",
    "    187,\n",
    "    190,\n",
    "    200,\n",
    "    201,\n",
    "    202,\n",
    "    210,\n",
    "    220,\n",
    "    0,\n",
    "]\n",
    "class_names = [\n",
    "    \"Rainfed_cropland\",\n",
    "    \"Herbaceous_cover_cropland\",\n",
    "    \"Tree_or_shrub_cover_cropland\",\n",
    "    \"Irrigated_cropland\",\n",
    "    \"Open_evergreen_broadleaved_forest\",\n",
    "    \"Closed_evergreen_broadleaved_forest\",\n",
    "    \"Open_deciduous_broadleaved_forest\",\n",
    "    \"Closed_deciduous_broadleaved_forest\",\n",
    "    \"Open_evergreen_needle_leaved_forest\",\n",
    "    \"Closed_evergreen_needle_leaved_forest\",\n",
    "    \"Open_deciduous_needle_leaved_forest\",\n",
    "    \"Closed_deciduous_needle_leaved_forest\",\n",
    "    \"Open_mixed_leaf_forest\",\n",
    "    \"Closed_mixed_leaf_forest\",\n",
    "    \"Shrubland\",\n",
    "    \"Evergreen_shrubland\",\n",
    "    \"Deciduous_shrubland\",\n",
    "    \"Grassland\",\n",
    "    \"Lichens_and_mosses\",\n",
    "    \"Sparse_vegetation\",\n",
    "    \"Sparse_shrubland\",\n",
    "    \"Sparse_herbaceous\",\n",
    "    \"Swamp\",\n",
    "    \"Marsh\",\n",
    "    \"Flooded_flat\",\n",
    "    \"Saline\",\n",
    "    \"Mangrove\",\n",
    "    \"Salt_marsh\",\n",
    "    \"Tidal_flat\",\n",
    "    \"Impervious_surfaces\",\n",
    "    \"Bare_areas\",\n",
    "    \"Consolidated_bare_areas\",\n",
    "    \"Unconsolidated_bare_areas\",\n",
    "    \"Water_body\",\n",
    "    \"Permanent_ice_and_snow\",\n",
    "    \"Filled_value\",\n",
    "]\n",
    "class_colors = [\n",
    "    \"#ffff64\",\n",
    "    \"#ffff64\",\n",
    "    \"#ffff00\",\n",
    "    \"#aaf0f0\",\n",
    "    \"#4c7300\",\n",
    "    \"#006400\",\n",
    "    \"#a8c800\",\n",
    "    \"#00a000\",\n",
    "    \"#005000\",\n",
    "    \"#003c00\",\n",
    "    \"#286400\",\n",
    "    \"#285000\",\n",
    "    \"#a0b432\",\n",
    "    \"#788200\",\n",
    "    \"#966400\",\n",
    "    \"#964b00\",\n",
    "    \"#966400\",\n",
    "    \"#ffb432\",\n",
    "    \"#ffdcd2\",\n",
    "    \"#ffebaf\",\n",
    "    \"#ffd278\",\n",
    "    \"#ffebaf\",\n",
    "    \"#00a884\",\n",
    "    \"#73ffdf\",\n",
    "    \"#9ebb3b\",\n",
    "    \"#828282\",\n",
    "    \"#f57ab6\",\n",
    "    \"#66cdab\",\n",
    "    \"#444f89\",\n",
    "    \"#c31400\",\n",
    "    \"#fff5d7\",\n",
    "    \"#dcdcdc\",\n",
    "    \"#fff5d7\",\n",
    "    \"#0046c8\",\n",
    "    \"#ffffff\",\n",
    "    \"#ffffff\",\n",
    "]\n",
    "\n",
    "# Mosaic the data into a single image\n",
    "annual_mosaic = annual.mosaic()\n",
    "\n",
    "years_list = [str(y) for y in range(2000, 2023)]\n",
    "annual_mosaic_renamed = annual_mosaic.rename(years_list)\n",
    "\n",
    "# Convert the multiband image to an ImageCollection\n",
    "images = []\n",
    "for year_str in years_list:\n",
    "    year_int = int(year_str)\n",
    "    date = ee.Date.fromYMD(year_int, 1, 1)\n",
    "    image = annual_mosaic_renamed.select([year_str]).set(\n",
    "        {\"system:time_start\": date.millis(), \"system:index\": year_str, \"year\": year_int}\n",
    "    )\n",
    "    images.append(image)\n",
    "\n",
    "mosaics_col = ee.ImageCollection.fromImages(images)\n",
    "\n",
    "recode = False\n",
    "if recode:\n",
    "    new_class_values = list(range(1, len(class_values) + 1))\n",
    "\n",
    "    def remap_classes(image):\n",
    "        return image.remap(class_values, new_class_values).rename(\"classification\")\n",
    "\n",
    "    mosaics_col = mosaics_col.map(remap_classes)"
   ]
  },
  {
   "cell_type": "code",
   "execution_count": 6,
   "id": "97245359",
   "metadata": {},
   "outputs": [
    {
     "data": {
      "text/html": [
       "\n",
       "            <style>\n",
       "                .geemap-dark {\n",
       "                    --jp-widgets-color: white;\n",
       "                    --jp-widgets-label-color: white;\n",
       "                    --jp-ui-font-color1: white;\n",
       "                    --jp-layout-color2: #454545;\n",
       "                    background-color: #383838;\n",
       "                }\n",
       "\n",
       "                .geemap-dark .jupyter-button {\n",
       "                    --jp-layout-color3: #383838;\n",
       "                }\n",
       "\n",
       "                .geemap-colab {\n",
       "                    background-color: var(--colab-primary-surface-color, white);\n",
       "                }\n",
       "\n",
       "                .geemap-colab .jupyter-button {\n",
       "                    --jp-layout-color3: var(--colab-primary-surface-color, white);\n",
       "                }\n",
       "            </style>\n",
       "            "
      ],
      "text/plain": [
       "<IPython.core.display.HTML object>"
      ]
     },
     "metadata": {},
     "output_type": "display_data"
    }
   ],
   "source": [
    "## Parameters\n",
    "\n",
    "YEAR = 2014\n",
    "CROPLAND_CLASS = 11\n",
    "\n",
    "cropland_values = [10, 11, 12, 20]  # Values for cropland classes"
   ]
  },
  {
   "cell_type": "markdown",
   "id": "36960d68",
   "metadata": {},
   "source": [
    "## Single cropland"
   ]
  },
  {
   "cell_type": "code",
   "execution_count": 20,
   "id": "eeec3ac8",
   "metadata": {},
   "outputs": [
    {
     "data": {
      "text/html": [
       "\n",
       "            <style>\n",
       "                .geemap-dark {\n",
       "                    --jp-widgets-color: white;\n",
       "                    --jp-widgets-label-color: white;\n",
       "                    --jp-ui-font-color1: white;\n",
       "                    --jp-layout-color2: #454545;\n",
       "                    background-color: #383838;\n",
       "                }\n",
       "\n",
       "                .geemap-dark .jupyter-button {\n",
       "                    --jp-layout-color3: #383838;\n",
       "                }\n",
       "\n",
       "                .geemap-colab {\n",
       "                    background-color: var(--colab-primary-surface-color, white);\n",
       "                }\n",
       "\n",
       "                .geemap-colab .jupyter-button {\n",
       "                    --jp-layout-color3: var(--colab-primary-surface-color, white);\n",
       "                }\n",
       "            </style>\n",
       "            "
      ],
      "text/plain": [
       "<IPython.core.display.HTML object>"
      ]
     },
     "metadata": {},
     "output_type": "display_data"
    },
    {
     "data": {
      "application/vnd.jupyter.widget-view+json": {
       "model_id": "5fef6d4ed59743fabf07e7ec85e1deb4",
       "version_major": 2,
       "version_minor": 0
      },
      "text/plain": [
       "Map(center=[-16.2902, -63.5887], controls=(WidgetControl(options=['position', 'transparent_bg'], widget=Search…"
      ]
     },
     "execution_count": 20,
     "metadata": {},
     "output_type": "execute_result"
    }
   ],
   "source": [
    "image_sample = mosaics_col.filter(ee.Filter.eq(\"year\", YEAR)).mosaic()\n",
    "crop_sample = image_sample.updateMask(image_sample.eq(CROPLAND_CLASS))\n",
    "\n",
    "m = geemap.Map(center=center, zoom=6, basemap=\"CartoDB.Positron\")\n",
    "m.addLayer(\n",
    "    crop_sample,\n",
    "    {},\n",
    "    f\"Land Cover {YEAR} - Cropland (Class {CROPLAND_CLASS})\",\n",
    ")\n",
    "m"
   ]
  },
  {
   "cell_type": "markdown",
   "id": "5db0b946",
   "metadata": {},
   "source": [
    "## Overall cropland"
   ]
  },
  {
   "cell_type": "code",
   "execution_count": 21,
   "id": "7a28efea",
   "metadata": {},
   "outputs": [
    {
     "data": {
      "text/html": [
       "\n",
       "            <style>\n",
       "                .geemap-dark {\n",
       "                    --jp-widgets-color: white;\n",
       "                    --jp-widgets-label-color: white;\n",
       "                    --jp-ui-font-color1: white;\n",
       "                    --jp-layout-color2: #454545;\n",
       "                    background-color: #383838;\n",
       "                }\n",
       "\n",
       "                .geemap-dark .jupyter-button {\n",
       "                    --jp-layout-color3: #383838;\n",
       "                }\n",
       "\n",
       "                .geemap-colab {\n",
       "                    background-color: var(--colab-primary-surface-color, white);\n",
       "                }\n",
       "\n",
       "                .geemap-colab .jupyter-button {\n",
       "                    --jp-layout-color3: var(--colab-primary-surface-color, white);\n",
       "                }\n",
       "            </style>\n",
       "            "
      ],
      "text/plain": [
       "<IPython.core.display.HTML object>"
      ]
     },
     "metadata": {},
     "output_type": "display_data"
    },
    {
     "data": {
      "application/vnd.jupyter.widget-view+json": {
       "model_id": "3420c36ab326453fab26d17bcf1d3e00",
       "version_major": 2,
       "version_minor": 0
      },
      "text/plain": [
       "Map(center=[-16.2902, -63.5887], controls=(WidgetControl(options=['position', 'transparent_bg'], widget=Search…"
      ]
     },
     "execution_count": 21,
     "metadata": {},
     "output_type": "execute_result"
    }
   ],
   "source": [
    "image_sample = mosaics_col.filter(ee.Filter.eq(\"year\", YEAR)).mosaic()\n",
    "\n",
    "crop_mask = ee.Image(0)  # Start with an empty mask (all 0s)\n",
    "for val in cropland_values:\n",
    "    crop_mask = crop_mask.Or(image_sample.eq(val))\n",
    "\n",
    "crop_sample = image_sample.updateMask(crop_mask)\n",
    "\n",
    "m = geemap.Map(center=center, zoom=6, basemap=\"CartoDB.Positron\")\n",
    "m.addLayer(\n",
    "    crop_sample,\n",
    "    {},\n",
    "    f\"Land Cover {YEAR} - Cropland (Classes {', '.join(map(str, cropland_values))})\",\n",
    "    True,\n",
    ")\n",
    "m"
   ]
  },
  {
   "cell_type": "markdown",
   "id": "a4397f61",
   "metadata": {},
   "source": [
    "## EVI based on single cropland"
   ]
  },
  {
   "cell_type": "code",
   "execution_count": 55,
   "id": "3c0597ad",
   "metadata": {},
   "outputs": [
    {
     "data": {
      "text/html": [
       "\n",
       "            <style>\n",
       "                .geemap-dark {\n",
       "                    --jp-widgets-color: white;\n",
       "                    --jp-widgets-label-color: white;\n",
       "                    --jp-ui-font-color1: white;\n",
       "                    --jp-layout-color2: #454545;\n",
       "                    background-color: #383838;\n",
       "                }\n",
       "\n",
       "                .geemap-dark .jupyter-button {\n",
       "                    --jp-layout-color3: #383838;\n",
       "                }\n",
       "\n",
       "                .geemap-colab {\n",
       "                    background-color: var(--colab-primary-surface-color, white);\n",
       "                }\n",
       "\n",
       "                .geemap-colab .jupyter-button {\n",
       "                    --jp-layout-color3: var(--colab-primary-surface-color, white);\n",
       "                }\n",
       "            </style>\n",
       "            "
      ],
      "text/plain": [
       "<IPython.core.display.HTML object>"
      ]
     },
     "metadata": {},
     "output_type": "display_data"
    },
    {
     "data": {
      "application/vnd.jupyter.widget-view+json": {
       "model_id": "d3ef786880474e9386a21adbec0b4e4a",
       "version_major": 2,
       "version_minor": 0
      },
      "text/plain": [
       "Map(center=[-16.2902, -63.5887], controls=(WidgetControl(options=['position', 'transparent_bg'], widget=Search…"
      ]
     },
     "execution_count": 55,
     "metadata": {},
     "output_type": "execute_result"
    }
   ],
   "source": [
    "vis_params = {\"min\": -2000, \"max\": 10000, \"palette\": cm.get_palette(\"Greens\", 20)}\n",
    "\n",
    "image_subset = mosaics_col.filter(ee.Filter.eq(\"year\", YEAR)).mosaic()\n",
    "crop_mask = image_subset.eq(CROPLAND_CLASS)\n",
    "evi_subset = evi_data.filterDate(\n",
    "    ee.Date.fromYMD(YEAR, 1, 1), ee.Date.fromYMD(YEAR, 12, 31)\n",
    ").mean()\n",
    "evi_subset = evi_subset.updateMask(crop_mask)\n",
    "\n",
    "m = geemap.Map(center=center, zoom=6, basemap=\"CartoDB.Positron\")\n",
    "m.addLayer(\n",
    "    evi_subset,\n",
    "    vis_params,\n",
    "    f\"Land Cover {YEAR}\",\n",
    ")\n",
    "m"
   ]
  },
  {
   "cell_type": "markdown",
   "id": "21251307",
   "metadata": {},
   "source": [
    "## EVI based on overall cropland"
   ]
  },
  {
   "cell_type": "code",
   "execution_count": null,
   "id": "fbd76d89",
   "metadata": {},
   "outputs": [
    {
     "data": {
      "text/html": [
       "\n",
       "            <style>\n",
       "                .geemap-dark {\n",
       "                    --jp-widgets-color: white;\n",
       "                    --jp-widgets-label-color: white;\n",
       "                    --jp-ui-font-color1: white;\n",
       "                    --jp-layout-color2: #454545;\n",
       "                    background-color: #383838;\n",
       "                }\n",
       "\n",
       "                .geemap-dark .jupyter-button {\n",
       "                    --jp-layout-color3: #383838;\n",
       "                }\n",
       "\n",
       "                .geemap-colab {\n",
       "                    background-color: var(--colab-primary-surface-color, white);\n",
       "                }\n",
       "\n",
       "                .geemap-colab .jupyter-button {\n",
       "                    --jp-layout-color3: var(--colab-primary-surface-color, white);\n",
       "                }\n",
       "            </style>\n",
       "            "
      ],
      "text/plain": [
       "<IPython.core.display.HTML object>"
      ]
     },
     "metadata": {},
     "output_type": "display_data"
    },
    {
     "data": {
      "application/vnd.jupyter.widget-view+json": {
       "model_id": "97b33a12dbe545f5b37dcbad18561b1e",
       "version_major": 2,
       "version_minor": 0
      },
      "text/plain": [
       "Map(center=[-16.2902, -63.5887], controls=(WidgetControl(options=['position', 'transparent_bg'], widget=Search…"
      ]
     },
     "execution_count": 23,
     "metadata": {},
     "output_type": "execute_result"
    }
   ],
   "source": [
    "vis_params = {\"min\": -2000, \"max\": 10000, \"palette\": cm.get_palette(\"Greens\", 10)}\n",
    "\n",
    "image_subset = mosaics_col.filter(ee.Filter.eq(\"year\", YEAR)).mosaic()\n",
    "\n",
    "crop_mask = ee.Image(0)\n",
    "for val in cropland_values:\n",
    "    crop_mask = crop_mask.Or(image_subset.eq(val))\n",
    "\n",
    "evi_subset = evi_data.filterDate(\n",
    "    ee.Date.fromYMD(YEAR, 1, 1), ee.Date.fromYMD(YEAR, 12, 31)\n",
    ").mean()\n",
    "\n",
    "evi_subset = evi_subset.updateMask(crop_mask).clip(bolivia_geom)\n",
    "\n",
    "m = geemap.Map(center=center, zoom=6, basemap=\"CartoDB.Positron\")\n",
    "m.addLayer(\n",
    "    evi_subset,\n",
    "    vis_params,\n",
    "    f\"Land Cover {YEAR}\",\n",
    ")\n",
    "m"
   ]
  },
  {
   "cell_type": "markdown",
   "id": "544b0f79",
   "metadata": {},
   "source": [
    "### 2014 EVI based on overall cropland"
   ]
  },
  {
   "cell_type": "code",
   "execution_count": 42,
   "id": "19bec4fd",
   "metadata": {},
   "outputs": [
    {
     "data": {
      "text/html": [
       "\n",
       "            <style>\n",
       "                .geemap-dark {\n",
       "                    --jp-widgets-color: white;\n",
       "                    --jp-widgets-label-color: white;\n",
       "                    --jp-ui-font-color1: white;\n",
       "                    --jp-layout-color2: #454545;\n",
       "                    background-color: #383838;\n",
       "                }\n",
       "\n",
       "                .geemap-dark .jupyter-button {\n",
       "                    --jp-layout-color3: #383838;\n",
       "                }\n",
       "\n",
       "                .geemap-colab {\n",
       "                    background-color: var(--colab-primary-surface-color, white);\n",
       "                }\n",
       "\n",
       "                .geemap-colab .jupyter-button {\n",
       "                    --jp-layout-color3: var(--colab-primary-surface-color, white);\n",
       "                }\n",
       "            </style>\n",
       "            "
      ],
      "text/plain": [
       "<IPython.core.display.HTML object>"
      ]
     },
     "metadata": {},
     "output_type": "display_data"
    }
   ],
   "source": [
    "def create_overall_evi(year: int = 2014):\n",
    "    image_subset = mosaics_col.filter(ee.Filter.eq(\"year\", year)).mosaic()\n",
    "\n",
    "    crop_mask = ee.Image(0)\n",
    "    for val in cropland_values:\n",
    "        crop_mask = crop_mask.Or(image_subset.eq(val))\n",
    "\n",
    "    evi_subset = evi_data.filterDate(\n",
    "        ee.Date.fromYMD(year, 1, 1), ee.Date.fromYMD(year, 12, 31)\n",
    "    ).mean()\n",
    "\n",
    "    evi_subset = evi_subset.updateMask(crop_mask).clip(bolivia_geom)\n",
    "\n",
    "    m = geemap.Map(center=center, zoom=6, basemap=\"CartoDB.Positron\")\n",
    "    m.addLayer(\n",
    "        evi_subset,\n",
    "        vis_params,\n",
    "        f\"Land Cover {year}\",\n",
    "    )\n",
    "    return m"
   ]
  },
  {
   "cell_type": "code",
   "execution_count": 43,
   "id": "c27bff8b",
   "metadata": {},
   "outputs": [
    {
     "data": {
      "text/html": [
       "\n",
       "            <style>\n",
       "                .geemap-dark {\n",
       "                    --jp-widgets-color: white;\n",
       "                    --jp-widgets-label-color: white;\n",
       "                    --jp-ui-font-color1: white;\n",
       "                    --jp-layout-color2: #454545;\n",
       "                    background-color: #383838;\n",
       "                }\n",
       "\n",
       "                .geemap-dark .jupyter-button {\n",
       "                    --jp-layout-color3: #383838;\n",
       "                }\n",
       "\n",
       "                .geemap-colab {\n",
       "                    background-color: var(--colab-primary-surface-color, white);\n",
       "                }\n",
       "\n",
       "                .geemap-colab .jupyter-button {\n",
       "                    --jp-layout-color3: var(--colab-primary-surface-color, white);\n",
       "                }\n",
       "            </style>\n",
       "            "
      ],
      "text/plain": [
       "<IPython.core.display.HTML object>"
      ]
     },
     "metadata": {},
     "output_type": "display_data"
    },
    {
     "data": {
      "application/vnd.jupyter.widget-view+json": {
       "model_id": "63861354efb64dc6abb29d58ba3c07e3",
       "version_major": 2,
       "version_minor": 0
      },
      "text/plain": [
       "Map(center=[-16.2902, -63.5887], controls=(WidgetControl(options=['position', 'transparent_bg'], widget=Search…"
      ]
     },
     "execution_count": 43,
     "metadata": {},
     "output_type": "execute_result"
    }
   ],
   "source": [
    "create_overall_evi(2014)"
   ]
  },
  {
   "cell_type": "markdown",
   "id": "42932a3e",
   "metadata": {},
   "source": [
    "### 2015 EVI based on overall cropland"
   ]
  },
  {
   "cell_type": "code",
   "execution_count": 44,
   "id": "43401804",
   "metadata": {},
   "outputs": [
    {
     "data": {
      "text/html": [
       "\n",
       "            <style>\n",
       "                .geemap-dark {\n",
       "                    --jp-widgets-color: white;\n",
       "                    --jp-widgets-label-color: white;\n",
       "                    --jp-ui-font-color1: white;\n",
       "                    --jp-layout-color2: #454545;\n",
       "                    background-color: #383838;\n",
       "                }\n",
       "\n",
       "                .geemap-dark .jupyter-button {\n",
       "                    --jp-layout-color3: #383838;\n",
       "                }\n",
       "\n",
       "                .geemap-colab {\n",
       "                    background-color: var(--colab-primary-surface-color, white);\n",
       "                }\n",
       "\n",
       "                .geemap-colab .jupyter-button {\n",
       "                    --jp-layout-color3: var(--colab-primary-surface-color, white);\n",
       "                }\n",
       "            </style>\n",
       "            "
      ],
      "text/plain": [
       "<IPython.core.display.HTML object>"
      ]
     },
     "metadata": {},
     "output_type": "display_data"
    },
    {
     "data": {
      "application/vnd.jupyter.widget-view+json": {
       "model_id": "9c952c55cc32405d8f31cd120550dce8",
       "version_major": 2,
       "version_minor": 0
      },
      "text/plain": [
       "Map(center=[-16.2902, -63.5887], controls=(WidgetControl(options=['position', 'transparent_bg'], widget=Search…"
      ]
     },
     "execution_count": 44,
     "metadata": {},
     "output_type": "execute_result"
    }
   ],
   "source": [
    "create_overall_evi(2015)"
   ]
  },
  {
   "cell_type": "markdown",
   "id": "039a9064",
   "metadata": {},
   "source": [
    "### 2016 EVI based on overall cropland"
   ]
  },
  {
   "cell_type": "code",
   "execution_count": 45,
   "id": "a1817c36",
   "metadata": {},
   "outputs": [
    {
     "data": {
      "text/html": [
       "\n",
       "            <style>\n",
       "                .geemap-dark {\n",
       "                    --jp-widgets-color: white;\n",
       "                    --jp-widgets-label-color: white;\n",
       "                    --jp-ui-font-color1: white;\n",
       "                    --jp-layout-color2: #454545;\n",
       "                    background-color: #383838;\n",
       "                }\n",
       "\n",
       "                .geemap-dark .jupyter-button {\n",
       "                    --jp-layout-color3: #383838;\n",
       "                }\n",
       "\n",
       "                .geemap-colab {\n",
       "                    background-color: var(--colab-primary-surface-color, white);\n",
       "                }\n",
       "\n",
       "                .geemap-colab .jupyter-button {\n",
       "                    --jp-layout-color3: var(--colab-primary-surface-color, white);\n",
       "                }\n",
       "            </style>\n",
       "            "
      ],
      "text/plain": [
       "<IPython.core.display.HTML object>"
      ]
     },
     "metadata": {},
     "output_type": "display_data"
    },
    {
     "data": {
      "application/vnd.jupyter.widget-view+json": {
       "model_id": "a819a8a023934c63b08b5eacc25bea97",
       "version_major": 2,
       "version_minor": 0
      },
      "text/plain": [
       "Map(center=[-16.2902, -63.5887], controls=(WidgetControl(options=['position', 'transparent_bg'], widget=Search…"
      ]
     },
     "execution_count": 45,
     "metadata": {},
     "output_type": "execute_result"
    }
   ],
   "source": [
    "create_overall_evi(2016)"
   ]
  },
  {
   "cell_type": "markdown",
   "id": "58c984d5",
   "metadata": {},
   "source": [
    "### 2017 EVI based on overall cropland"
   ]
  },
  {
   "cell_type": "code",
   "execution_count": 46,
   "id": "5124ba01",
   "metadata": {},
   "outputs": [
    {
     "data": {
      "text/html": [
       "\n",
       "            <style>\n",
       "                .geemap-dark {\n",
       "                    --jp-widgets-color: white;\n",
       "                    --jp-widgets-label-color: white;\n",
       "                    --jp-ui-font-color1: white;\n",
       "                    --jp-layout-color2: #454545;\n",
       "                    background-color: #383838;\n",
       "                }\n",
       "\n",
       "                .geemap-dark .jupyter-button {\n",
       "                    --jp-layout-color3: #383838;\n",
       "                }\n",
       "\n",
       "                .geemap-colab {\n",
       "                    background-color: var(--colab-primary-surface-color, white);\n",
       "                }\n",
       "\n",
       "                .geemap-colab .jupyter-button {\n",
       "                    --jp-layout-color3: var(--colab-primary-surface-color, white);\n",
       "                }\n",
       "            </style>\n",
       "            "
      ],
      "text/plain": [
       "<IPython.core.display.HTML object>"
      ]
     },
     "metadata": {},
     "output_type": "display_data"
    },
    {
     "data": {
      "application/vnd.jupyter.widget-view+json": {
       "model_id": "9cd2fc28eb7946b8b8ee923ec6a29e86",
       "version_major": 2,
       "version_minor": 0
      },
      "text/plain": [
       "Map(center=[-16.2902, -63.5887], controls=(WidgetControl(options=['position', 'transparent_bg'], widget=Search…"
      ]
     },
     "execution_count": 46,
     "metadata": {},
     "output_type": "execute_result"
    }
   ],
   "source": [
    "create_overall_evi(2017)"
   ]
  },
  {
   "cell_type": "markdown",
   "id": "c3260495",
   "metadata": {},
   "source": [
    "### 2018 EVI based on overall cropland"
   ]
  },
  {
   "cell_type": "code",
   "execution_count": 47,
   "id": "6b62d678",
   "metadata": {},
   "outputs": [
    {
     "data": {
      "text/html": [
       "\n",
       "            <style>\n",
       "                .geemap-dark {\n",
       "                    --jp-widgets-color: white;\n",
       "                    --jp-widgets-label-color: white;\n",
       "                    --jp-ui-font-color1: white;\n",
       "                    --jp-layout-color2: #454545;\n",
       "                    background-color: #383838;\n",
       "                }\n",
       "\n",
       "                .geemap-dark .jupyter-button {\n",
       "                    --jp-layout-color3: #383838;\n",
       "                }\n",
       "\n",
       "                .geemap-colab {\n",
       "                    background-color: var(--colab-primary-surface-color, white);\n",
       "                }\n",
       "\n",
       "                .geemap-colab .jupyter-button {\n",
       "                    --jp-layout-color3: var(--colab-primary-surface-color, white);\n",
       "                }\n",
       "            </style>\n",
       "            "
      ],
      "text/plain": [
       "<IPython.core.display.HTML object>"
      ]
     },
     "metadata": {},
     "output_type": "display_data"
    },
    {
     "data": {
      "application/vnd.jupyter.widget-view+json": {
       "model_id": "f324713454a24bf7b525714e701b86ff",
       "version_major": 2,
       "version_minor": 0
      },
      "text/plain": [
       "Map(center=[-16.2902, -63.5887], controls=(WidgetControl(options=['position', 'transparent_bg'], widget=Search…"
      ]
     },
     "execution_count": 47,
     "metadata": {},
     "output_type": "execute_result"
    }
   ],
   "source": [
    "create_overall_evi(2018)"
   ]
  },
  {
   "cell_type": "markdown",
   "id": "9e84d45a",
   "metadata": {},
   "source": [
    "### 2019 EVI based on overall cropland"
   ]
  },
  {
   "cell_type": "code",
   "execution_count": 48,
   "id": "396782ba",
   "metadata": {},
   "outputs": [
    {
     "data": {
      "text/html": [
       "\n",
       "            <style>\n",
       "                .geemap-dark {\n",
       "                    --jp-widgets-color: white;\n",
       "                    --jp-widgets-label-color: white;\n",
       "                    --jp-ui-font-color1: white;\n",
       "                    --jp-layout-color2: #454545;\n",
       "                    background-color: #383838;\n",
       "                }\n",
       "\n",
       "                .geemap-dark .jupyter-button {\n",
       "                    --jp-layout-color3: #383838;\n",
       "                }\n",
       "\n",
       "                .geemap-colab {\n",
       "                    background-color: var(--colab-primary-surface-color, white);\n",
       "                }\n",
       "\n",
       "                .geemap-colab .jupyter-button {\n",
       "                    --jp-layout-color3: var(--colab-primary-surface-color, white);\n",
       "                }\n",
       "            </style>\n",
       "            "
      ],
      "text/plain": [
       "<IPython.core.display.HTML object>"
      ]
     },
     "metadata": {},
     "output_type": "display_data"
    },
    {
     "data": {
      "application/vnd.jupyter.widget-view+json": {
       "model_id": "d1b99810d649435db7fefea326fceca5",
       "version_major": 2,
       "version_minor": 0
      },
      "text/plain": [
       "Map(center=[-16.2902, -63.5887], controls=(WidgetControl(options=['position', 'transparent_bg'], widget=Search…"
      ]
     },
     "execution_count": 48,
     "metadata": {},
     "output_type": "execute_result"
    }
   ],
   "source": [
    "create_overall_evi(2019)"
   ]
  },
  {
   "cell_type": "markdown",
   "id": "dee2b44e",
   "metadata": {},
   "source": [
    "### 2020 EVI based on overall cropland"
   ]
  },
  {
   "cell_type": "code",
   "execution_count": 49,
   "id": "37a41fed",
   "metadata": {},
   "outputs": [
    {
     "data": {
      "text/html": [
       "\n",
       "            <style>\n",
       "                .geemap-dark {\n",
       "                    --jp-widgets-color: white;\n",
       "                    --jp-widgets-label-color: white;\n",
       "                    --jp-ui-font-color1: white;\n",
       "                    --jp-layout-color2: #454545;\n",
       "                    background-color: #383838;\n",
       "                }\n",
       "\n",
       "                .geemap-dark .jupyter-button {\n",
       "                    --jp-layout-color3: #383838;\n",
       "                }\n",
       "\n",
       "                .geemap-colab {\n",
       "                    background-color: var(--colab-primary-surface-color, white);\n",
       "                }\n",
       "\n",
       "                .geemap-colab .jupyter-button {\n",
       "                    --jp-layout-color3: var(--colab-primary-surface-color, white);\n",
       "                }\n",
       "            </style>\n",
       "            "
      ],
      "text/plain": [
       "<IPython.core.display.HTML object>"
      ]
     },
     "metadata": {},
     "output_type": "display_data"
    },
    {
     "data": {
      "application/vnd.jupyter.widget-view+json": {
       "model_id": "257becb1f95748fbb969fd03a283a862",
       "version_major": 2,
       "version_minor": 0
      },
      "text/plain": [
       "Map(center=[-16.2902, -63.5887], controls=(WidgetControl(options=['position', 'transparent_bg'], widget=Search…"
      ]
     },
     "execution_count": 49,
     "metadata": {},
     "output_type": "execute_result"
    }
   ],
   "source": [
    "create_overall_evi(2020)"
   ]
  },
  {
   "cell_type": "markdown",
   "id": "09d03fe8",
   "metadata": {},
   "source": [
    "### 2021 EVI based on overall cropland"
   ]
  },
  {
   "cell_type": "code",
   "execution_count": 50,
   "id": "5d78fee2",
   "metadata": {},
   "outputs": [
    {
     "data": {
      "text/html": [
       "\n",
       "            <style>\n",
       "                .geemap-dark {\n",
       "                    --jp-widgets-color: white;\n",
       "                    --jp-widgets-label-color: white;\n",
       "                    --jp-ui-font-color1: white;\n",
       "                    --jp-layout-color2: #454545;\n",
       "                    background-color: #383838;\n",
       "                }\n",
       "\n",
       "                .geemap-dark .jupyter-button {\n",
       "                    --jp-layout-color3: #383838;\n",
       "                }\n",
       "\n",
       "                .geemap-colab {\n",
       "                    background-color: var(--colab-primary-surface-color, white);\n",
       "                }\n",
       "\n",
       "                .geemap-colab .jupyter-button {\n",
       "                    --jp-layout-color3: var(--colab-primary-surface-color, white);\n",
       "                }\n",
       "            </style>\n",
       "            "
      ],
      "text/plain": [
       "<IPython.core.display.HTML object>"
      ]
     },
     "metadata": {},
     "output_type": "display_data"
    },
    {
     "data": {
      "application/vnd.jupyter.widget-view+json": {
       "model_id": "26c6b4bc1ee8475fbf01d7c1fca80077",
       "version_major": 2,
       "version_minor": 0
      },
      "text/plain": [
       "Map(center=[-16.2902, -63.5887], controls=(WidgetControl(options=['position', 'transparent_bg'], widget=Search…"
      ]
     },
     "execution_count": 50,
     "metadata": {},
     "output_type": "execute_result"
    }
   ],
   "source": [
    "create_overall_evi(2021)"
   ]
  },
  {
   "cell_type": "markdown",
   "id": "ac0fab09",
   "metadata": {},
   "source": [
    "### 2022 EVI based on overall cropland"
   ]
  },
  {
   "cell_type": "code",
   "execution_count": 51,
   "id": "c1b064ea",
   "metadata": {},
   "outputs": [
    {
     "data": {
      "text/html": [
       "\n",
       "            <style>\n",
       "                .geemap-dark {\n",
       "                    --jp-widgets-color: white;\n",
       "                    --jp-widgets-label-color: white;\n",
       "                    --jp-ui-font-color1: white;\n",
       "                    --jp-layout-color2: #454545;\n",
       "                    background-color: #383838;\n",
       "                }\n",
       "\n",
       "                .geemap-dark .jupyter-button {\n",
       "                    --jp-layout-color3: #383838;\n",
       "                }\n",
       "\n",
       "                .geemap-colab {\n",
       "                    background-color: var(--colab-primary-surface-color, white);\n",
       "                }\n",
       "\n",
       "                .geemap-colab .jupyter-button {\n",
       "                    --jp-layout-color3: var(--colab-primary-surface-color, white);\n",
       "                }\n",
       "            </style>\n",
       "            "
      ],
      "text/plain": [
       "<IPython.core.display.HTML object>"
      ]
     },
     "metadata": {},
     "output_type": "display_data"
    },
    {
     "data": {
      "application/vnd.jupyter.widget-view+json": {
       "model_id": "9d66a5425d584cc49090f398dea9256b",
       "version_major": 2,
       "version_minor": 0
      },
      "text/plain": [
       "Map(center=[-16.2902, -63.5887], controls=(WidgetControl(options=['position', 'transparent_bg'], widget=Search…"
      ]
     },
     "execution_count": 51,
     "metadata": {},
     "output_type": "execute_result"
    }
   ],
   "source": [
    "create_overall_evi(2022)"
   ]
  },
  {
   "cell_type": "markdown",
   "id": "22b6b841",
   "metadata": {},
   "source": [
    "## Overall zonal stats"
   ]
  },
  {
   "cell_type": "code",
   "execution_count": 7,
   "id": "17bab9f3",
   "metadata": {},
   "outputs": [
    {
     "data": {
      "text/html": [
       "\n",
       "            <style>\n",
       "                .geemap-dark {\n",
       "                    --jp-widgets-color: white;\n",
       "                    --jp-widgets-label-color: white;\n",
       "                    --jp-ui-font-color1: white;\n",
       "                    --jp-layout-color2: #454545;\n",
       "                    background-color: #383838;\n",
       "                }\n",
       "\n",
       "                .geemap-dark .jupyter-button {\n",
       "                    --jp-layout-color3: #383838;\n",
       "                }\n",
       "\n",
       "                .geemap-colab {\n",
       "                    background-color: var(--colab-primary-surface-color, white);\n",
       "                }\n",
       "\n",
       "                .geemap-colab .jupyter-button {\n",
       "                    --jp-layout-color3: var(--colab-primary-surface-color, white);\n",
       "                }\n",
       "            </style>\n",
       "            "
      ],
      "text/plain": [
       "<IPython.core.display.HTML object>"
      ]
     },
     "metadata": {},
     "output_type": "display_data"
    }
   ],
   "source": [
    "def calculate_evi_zonal_stats(\n",
    "    region, start_year: int = 2014, end_year: int = 2022\n",
    ") -> ee.Image:\n",
    "    \"\"\"Calculate EVI zonal statistics for a range of years.\"\"\"\n",
    "    evi_images = []\n",
    "    for year in range(start_year, end_year + 1):\n",
    "        # Load crop mask for the specific year\n",
    "        image_subset = mosaics_col.filter(ee.Filter.eq(\"year\", year)).mosaic()\n",
    "        crop_mask = ee.Image(0)\n",
    "        for val in cropland_values:\n",
    "            crop_mask = crop_mask.Or(image_subset.eq(val))\n",
    "\n",
    "        # Load EVI data for the specific year\n",
    "        evi_subset = evi_data.filterDate(\n",
    "            ee.Date.fromYMD(year, 1, 1), ee.Date.fromYMD(year, 12, 31)\n",
    "        ).mean()\n",
    "\n",
    "        # Update the EVI image with the crop mask\n",
    "        evi_subset = evi_subset.updateMask(crop_mask)\n",
    "        evi_images.append(evi_subset)\n",
    "\n",
    "    evi_images = ee.ImageCollection.fromImages(evi_images)\n",
    "    zs = ZonalStats(\n",
    "        target_features=region,\n",
    "        statistic_type=\"mean\",\n",
    "        scale=250,\n",
    "        ee_dataset=evi_images,\n",
    "        output_dir=\"Bolivia\",\n",
    "        output_name=f\"evi_zonal_stats_{start_year}_{end_year}\",\n",
    "    )\n",
    "    return zs.runZonalStats()\n",
    "\n",
    "\n",
    "bolivia_adm1_geom = fetch_boundaries(\"BOL\", 1, \"gbOpen\")\n",
    "# evi_zonal_stats = calculate_evi_zonal_stats(bolivia_adm1_geom, 2014, 2022)"
   ]
  },
  {
   "cell_type": "code",
   "execution_count": null,
   "id": "f81c5d0a",
   "metadata": {},
   "outputs": [
    {
     "data": {
      "text/html": [
       "\n",
       "            <style>\n",
       "                .geemap-dark {\n",
       "                    --jp-widgets-color: white;\n",
       "                    --jp-widgets-label-color: white;\n",
       "                    --jp-ui-font-color1: white;\n",
       "                    --jp-layout-color2: #454545;\n",
       "                    background-color: #383838;\n",
       "                }\n",
       "\n",
       "                .geemap-dark .jupyter-button {\n",
       "                    --jp-layout-color3: #383838;\n",
       "                }\n",
       "\n",
       "                .geemap-colab {\n",
       "                    background-color: var(--colab-primary-surface-color, white);\n",
       "                }\n",
       "\n",
       "                .geemap-colab .jupyter-button {\n",
       "                    --jp-layout-color3: var(--colab-primary-surface-color, white);\n",
       "                }\n",
       "            </style>\n",
       "            "
      ],
      "text/plain": [
       "<IPython.core.display.HTML object>"
      ]
     },
     "metadata": {},
     "output_type": "display_data"
    }
   ],
   "source": [
    "start_year = 2014\n",
    "end_year = 2022\n",
    "\n",
    "evi_images = []\n",
    "for year in range(start_year, end_year + 1):\n",
    "    # Load crop mask for the specific year\n",
    "    image_subset = mosaics_col.filter(ee.Filter.eq(\"year\", year)).mosaic()\n",
    "    crop_mask = ee.Image(0)\n",
    "    for val in cropland_values:\n",
    "        crop_mask = crop_mask.Or(image_subset.eq(val))\n",
    "\n",
    "    # Load EVI data for the specific year\n",
    "    evi_subset = evi_data.filterDate(\n",
    "        ee.Date.fromYMD(year, 1, 1), ee.Date.fromYMD(year, 12, 31)\n",
    "    ).mean()\n",
    "\n",
    "    # Update the EVI image with the crop mask\n",
    "    evi_subset = evi_subset.updateMask(crop_mask)\n",
    "    evi_images.append(evi_subset)\n",
    "\n",
    "evi_images = ee.ImageCollection.fromImages(evi_images)\n",
    "zs = ZonalStats(\n",
    "    target_features=bolivia_adm1_geom,\n",
    "    statistic_type=\"mean\",\n",
    "    scale=250,\n",
    "    ee_dataset=evi_images,\n",
    "    output_dir=\"Bolivia\",\n",
    "    output_name=f\"evi_zonal_stats_{start_year}_{end_year}\",\n",
    ")\n",
    "zs.runZonalStats()"
   ]
  },
  {
   "cell_type": "code",
   "execution_count": 11,
   "id": "22e9afdd",
   "metadata": {},
   "outputs": [
    {
     "data": {
      "text/html": [
       "\n",
       "            <style>\n",
       "                .geemap-dark {\n",
       "                    --jp-widgets-color: white;\n",
       "                    --jp-widgets-label-color: white;\n",
       "                    --jp-ui-font-color1: white;\n",
       "                    --jp-layout-color2: #454545;\n",
       "                    background-color: #383838;\n",
       "                }\n",
       "\n",
       "                .geemap-dark .jupyter-button {\n",
       "                    --jp-layout-color3: #383838;\n",
       "                }\n",
       "\n",
       "                .geemap-colab {\n",
       "                    background-color: var(--colab-primary-surface-color, white);\n",
       "                }\n",
       "\n",
       "                .geemap-colab .jupyter-button {\n",
       "                    --jp-layout-color3: var(--colab-primary-surface-color, white);\n",
       "                }\n",
       "            </style>\n",
       "            "
      ],
      "text/plain": [
       "<IPython.core.display.HTML object>"
      ]
     },
     "metadata": {},
     "output_type": "display_data"
    },
    {
     "data": {
      "text/plain": [
       "{'state': <State.UNSUBMITTED: 'UNSUBMITTED'>}"
      ]
     },
     "execution_count": 11,
     "metadata": {},
     "output_type": "execute_result"
    }
   ],
   "source": [
    "zs.task.status()"
   ]
  },
  {
   "cell_type": "code",
   "execution_count": null,
   "id": "191ffbc5",
   "metadata": {},
   "outputs": [],
   "source": []
  }
 ],
 "metadata": {
  "kernelspec": {
   "display_name": ".venv",
   "language": "python",
   "name": "python3"
  },
  "language_info": {
   "codemirror_mode": {
    "name": "ipython",
    "version": 3
   },
   "file_extension": ".py",
   "mimetype": "text/x-python",
   "name": "python",
   "nbconvert_exporter": "python",
   "pygments_lexer": "ipython3",
   "version": "3.11.12"
  }
 },
 "nbformat": 4,
 "nbformat_minor": 5
}
